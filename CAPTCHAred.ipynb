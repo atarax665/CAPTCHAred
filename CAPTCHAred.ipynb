{
 "cells": [
  {
   "cell_type": "markdown",
   "metadata": {},
   "source": [
    "# CAPTCHAred\n",
    "A openCV OCR to solve captcha"
   ]
  },
  {
   "cell_type": "code",
   "execution_count": 39,
   "metadata": {},
   "outputs": [],
   "source": [
    "import os\n",
    "import cv2\n",
    "import matplotlib.pyplot as plt\n",
    "\n",
    "from pathlib import Path\n",
    "import numpy as np\n",
    "import pandas as pd\n",
    "\n",
    "import os"
   ]
  },
  {
   "cell_type": "markdown",
   "metadata": {},
   "source": [
    "# **Loading images**"
   ]
  },
  {
   "cell_type": "code",
   "execution_count": 40,
   "metadata": {},
   "outputs": [],
   "source": [
    "data_dir = Path(\"./samples/\")\n",
    "images = list(data_dir.glob(\"*.png\"))"
   ]
  },
  {
   "cell_type": "markdown",
   "metadata": {},
   "source": [
    "# Creating labelled data\n",
    "As we know that each of our image contains a line , basically a thin line which cuts several characters.\n",
    "So we are going to remove that line by morphological operations on our image(Erosion and dilation).\n",
    "First we wil threshold our image , we are gonna use Adaptive thresolding , then we will dilate to remove that line.\n",
    "Its also clearly visible that each image contains 5 characters and the positions of all 5 characters are always same.\n",
    "So we wil hardcode character's position and from each image we will extract five characters with their corresponding label , and hence will get a labelled data.\n",
    "We wil pad each character image to change it in required dimension."
   ]
  },
  {
   "cell_type": "code",
   "execution_count": 41,
   "metadata": {},
   "outputs": [],
   "source": [
    "kernel =np.ones((3,1),np.uint8)\n",
    "borderType = cv2.BORDER_CONSTANT\n",
    "def pad(src): \n",
    "    top = int(0.05 * src.shape[0])  # shape[0] = rows\n",
    "    bottom = top\n",
    "    left = int(0.15 * src.shape[1])  # shape[1] = cols\n",
    "    right = left\n",
    "    des=cv2.copyMakeBorder(src, top, bottom, left+1, right, borderType, None,255)\n",
    "    return cv2.bitwise_not(des)"
   ]
  },
  {
   "cell_type": "markdown",
   "metadata": {},
   "source": [
    "**CREATING LABELLED DATA**"
   ]
  },
  {
   "cell_type": "code",
   "execution_count": 42,
   "metadata": {},
   "outputs": [],
   "source": [
    "x=[]\n",
    "y=[]\n",
    "for image in images:\n",
    "    im=cv2.imread(str(image),0)\n",
    "    threshold=cv2.adaptiveThreshold(im, 255, cv2.ADAPTIVE_THRESH_GAUSSIAN_C,cv2.THRESH_BINARY, 199, 5)\n",
    "    erosion =cv2.dilate(threshold,kernel,iterations=2)\n",
    "    s=str(image)\n",
    "    for i in range(5):\n",
    "        x.append(pad(erosion[:,(30+23*i):(30+23*(i+1))]))\n",
    "        y.append(s[-9+i])"
   ]
  },
  {
   "cell_type": "code",
   "execution_count": 43,
   "metadata": {},
   "outputs": [
    {
     "data": {
      "text/plain": [
       "<matplotlib.image.AxesImage at 0x2a80ebe86d0>"
      ]
     },
     "execution_count": 43,
     "metadata": {},
     "output_type": "execute_result"
    },
    {
     "data": {
      "image/png": "[encoded data removed]",
      "text/plain": [
       "<Figure size 432x288 with 1 Axes>"
      ]
     },
     "metadata": {
      "needs_background": "light"
     },
     "output_type": "display_data"
    }
   ],
   "source": [
    "plt.imshow(x[56])"
   ]
  },
  {
   "cell_type": "code",
   "execution_count": 44,
   "metadata": {},
   "outputs": [
    {
     "data": {
      "text/plain": [
       "'5'"
      ]
     },
     "execution_count": 44,
     "metadata": {},
     "output_type": "execute_result"
    }
   ],
   "source": [
    "y[56]"
   ]
  },
  {
   "cell_type": "code",
   "execution_count": 45,
   "metadata": {},
   "outputs": [],
   "source": [
    "x=np.array(x)\n",
    "y=np.array(y)"
   ]
  },
  {
   "cell_type": "markdown",
   "metadata": {},
   "source": [
    "**To see which characters are present and their corresponding frequencies , to ensure that our data is not biased**\n"
   ]
  },
  {
   "cell_type": "code",
   "execution_count": 46,
   "metadata": {},
   "outputs": [
    {
     "name": "stdout",
     "output_type": "stream",
     "text": [
      "[['2' '265']\n",
      " ['3' '267']\n",
      " ['4' '284']\n",
      " ['5' '281']\n",
      " ['6' '259']\n",
      " ['7' '258']\n",
      " ['8' '264']\n",
      " ['b' '240']\n",
      " ['c' '262']\n",
      " ['d' '259']\n",
      " ['e' '235']\n",
      " ['f' '271']\n",
      " ['g' '271']\n",
      " ['m' '275']\n",
      " ['n' '525']\n",
      " ['p' '253']\n",
      " ['w' '235']\n",
      " ['x' '264']\n",
      " ['y' '232']]\n"
     ]
    }
   ],
   "source": [
    "(unique, counts) = np.unique(y, return_counts=True)\n",
    "frequencies = np.asarray((unique, counts)).T\n",
    "\n",
    "print(frequencies)"
   ]
  },
  {
   "cell_type": "code",
   "execution_count": 47,
   "metadata": {},
   "outputs": [],
   "source": [
    "data=np.reshape(x,(-1,54,30,1))"
   ]
  },
  {
   "cell_type": "markdown",
   "metadata": {},
   "source": [
    "# Converting labels in one-hot encoder form"
   ]
  },
  {
   "cell_type": "code",
   "execution_count": 48,
   "metadata": {},
   "outputs": [],
   "source": [
    "train = []\n",
    "l=['2','3','4','5','6','7','8','b','c','d','e','f','g','m','n','p','w','x','y']\n",
    "for j in y:\n",
    "    i=l.index(j)\n",
    "    a=[]\n",
    "    for r in range(19):\n",
    "        if(r==i):\n",
    "            a.append(1)\n",
    "        else:\n",
    "            a.append(0)\n",
    "    a=np.array(a)\n",
    "    train.append(a)\n",
    "train=np.array(train)    "
   ]
  },
  {
   "cell_type": "markdown",
   "metadata": {},
   "source": [
    "# **Importing libraries to define our model**"
   ]
  },
  {
   "cell_type": "code",
   "execution_count": 49,
   "metadata": {},
   "outputs": [],
   "source": [
    "import matplotlib.image as mpimg\n",
    "import seaborn as sns\n",
    "%matplotlib inline\n",
    "\n",
    "np.random.seed(2)\n",
    "\n",
    "from sklearn.model_selection import train_test_split\n",
    "from sklearn.metrics import confusion_matrix\n",
    "import itertools\n",
    "\n",
    "from keras.utils.np_utils import to_categorical # convert to one-hot-encoding\n",
    "from keras.models import Sequential\n",
    "from keras.layers import Dense, Dropout, Flatten, Conv2D, MaxPool2D\n",
    "from keras.optimizers import RMSprop\n",
    "from keras.preprocessing.image import ImageDataGenerator\n",
    "from keras.callbacks import ReduceLROnPlateau\n",
    "\n",
    "\n",
    "sns.set(style='white', context='notebook', palette='deep')"
   ]
  },
  {
   "cell_type": "markdown",
   "metadata": {},
   "source": [
    "# **Defining architecture of our Model**"
   ]
  },
  {
   "cell_type": "code",
   "execution_count": 50,
   "metadata": {},
   "outputs": [],
   "source": [
    "model = Sequential()\n",
    "model.add(Conv2D(filters = 16, kernel_size = (5,5),padding = 'Same', \n",
    "                 activation ='relu', input_shape = (50,30,1)))\n",
    "model.add(Conv2D(filters = 16, kernel_size = (5,5),padding = 'Same', \n",
    "                 activation ='relu'))\n",
    "model.add(MaxPool2D(pool_size=(2,2)))\n",
    "model.add(Dropout(0.25))\n",
    "\n",
    "model.add(Conv2D(filters = 32, kernel_size = (5,5),padding = 'Same', \n",
    "                 activation ='relu'))\n",
    "model.add(Conv2D(filters = 32, kernel_size = (5,5),padding = 'Same', \n",
    "                 activation ='relu'))\n",
    "model.add(MaxPool2D(pool_size=(2,2)))\n",
    "model.add(Dropout(0.25))\n",
    "\n",
    "\n",
    "model.add(Conv2D(filters = 64, kernel_size = (3,3),padding = 'Same', \n",
    "                 activation ='relu'))\n",
    "model.add(Conv2D(filters = 64, kernel_size = (3,3),padding = 'Same', \n",
    "                 activation ='relu'))\n",
    "model.add(MaxPool2D(pool_size=(2,2), strides=(2,2)))\n",
    "model.add(Dropout(0.25))\n",
    "\n",
    "model.add(Flatten())\n",
    "model.add(Dense(256, activation = \"relu\"))\n",
    "model.add(Dropout(0.5))\n",
    "model.add(Dense(19, activation = \"softmax\"))"
   ]
  },
  {
   "cell_type": "markdown",
   "metadata": {},
   "source": [
    "**Optimizer Functions**\n"
   ]
  },
  {
   "cell_type": "code",
   "execution_count": 52,
   "metadata": {},
   "outputs": [],
   "source": [
    "optimizer = RMSprop(learning_rate=0.001, rho=0.9, epsilon=1e-08, decay=0.0)\n",
    "model.compile(optimizer = optimizer , loss = \"categorical_crossentropy\", metrics=[\"accuracy\"])\n",
    "learning_rate_reduction = ReduceLROnPlateau(monitor='val_accuracy', \n",
    "                                            patience=3, \n",
    "                                            verbose=1, \n",
    "                                            factor=0.5, \n",
    "                                            min_lr=0.00001)"
   ]
  },
  {
   "cell_type": "code",
   "execution_count": 53,
   "metadata": {},
   "outputs": [],
   "source": [
    "epochs = 30 # Turn epochs to 30 to get 0.9967 accuracy\n",
    "batch_size = 86"
   ]
  },
  {
   "cell_type": "code",
   "execution_count": 54,
   "metadata": {},
   "outputs": [],
   "source": [
    "X_train, X_val, Y_train, Y_val = train_test_split(data, train, test_size = 0.1, random_state= 2)\n",
    "X_train=X_train/255.0\n",
    "X_val=X_val/255.0"
   ]
  },
  {
   "cell_type": "code",
   "execution_count": 55,
   "metadata": {},
   "outputs": [],
   "source": [
    "datagen = ImageDataGenerator(\n",
    "        featurewise_center=False,  # set input mean to 0 over the dataset\n",
    "        samplewise_center=False,  # set each sample mean to 0\n",
    "        featurewise_std_normalization=False,  # divide inputs by std of the dataset\n",
    "        samplewise_std_normalization=False,  # divide each input by its std\n",
    "        zca_whitening=False,  # apply ZCA whitening\n",
    "        rotation_range=5,  # randomly rotate images in the range (degrees, 0 to 180)\n",
    "        zoom_range = False, # Randomly zoom image \n",
    "        width_shift_range=0.1,  # randomly shift images horizontally (fraction of total width)\n",
    "        height_shift_range=0.1,  # randomly shift images vertically (fraction of total height)\n",
    "        horizontal_flip=False,  # randomly flip images\n",
    "        vertical_flip=False)  # randomly flip images\n",
    "\n",
    "\n",
    "datagen.fit(X_train)"
   ]
  },
  {
   "cell_type": "markdown",
   "metadata": {},
   "source": [
    "# Fitting data into the Model"
   ]
  },
  {
   "cell_type": "code",
   "execution_count": 56,
   "metadata": {},
   "outputs": [
    {
     "name": "stderr",
     "output_type": "stream",
     "text": [
      "C:\\Users\\Atarax\\anaconda3\\lib\\site-packages\\keras\\engine\\training.py:1915: UserWarning: `Model.fit_generator` is deprecated and will be removed in a future version. Please use `Model.fit`, which supports generators.\n",
      "  warnings.warn('`Model.fit_generator` is deprecated and '\n"
     ]
    },
    {
     "name": "stdout",
     "output_type": "stream",
     "text": [
      "Epoch 1/30\n",
      "54/54 [==============================] - ETA: 0s - loss: 2.8468 - accuracy: 0.1183WARNING:tensorflow:Model was constructed with shape (None, 50, 30, 1) for input KerasTensor(type_spec=TensorSpec(shape=(None, 50, 30, 1), dtype=tf.float32, name='conv2d_input'), name='conv2d_input', description=\"created by layer 'conv2d_input'\"), but it was called on an input with incompatible shape (None, 54, 30, 1).\n",
      "54/54 [==============================] - 29s 61ms/step - loss: 2.8439 - accuracy: 0.1190 - val_loss: 1.9388 - val_accuracy: 0.4385\n",
      "Epoch 2/30\n",
      "54/54 [==============================] - 1s 22ms/step - loss: 2.0987 - accuracy: 0.3206 - val_loss: 1.0026 - val_accuracy: 0.6865\n",
      "Epoch 3/30\n",
      "54/54 [==============================] - 1s 21ms/step - loss: 1.5216 - accuracy: 0.5183 - val_loss: 0.7784 - val_accuracy: 0.7750\n",
      "Epoch 4/30\n",
      "54/54 [==============================] - 1s 21ms/step - loss: 1.0625 - accuracy: 0.6723 - val_loss: 0.4673 - val_accuracy: 0.8462\n",
      "Epoch 5/30\n",
      "54/54 [==============================] - 1s 21ms/step - loss: 0.7951 - accuracy: 0.7475 - val_loss: 0.3706 - val_accuracy: 0.8885\n",
      "Epoch 6/30\n",
      "54/54 [==============================] - 1s 21ms/step - loss: 0.6663 - accuracy: 0.7969 - val_loss: 0.3107 - val_accuracy: 0.8962\n",
      "Epoch 7/30\n",
      "54/54 [==============================] - 1s 21ms/step - loss: 0.5664 - accuracy: 0.8292 - val_loss: 0.2742 - val_accuracy: 0.8942\n",
      "Epoch 8/30\n",
      "54/54 [==============================] - 1s 21ms/step - loss: 0.4970 - accuracy: 0.8388 - val_loss: 0.2580 - val_accuracy: 0.8962\n",
      "Epoch 9/30\n",
      "54/54 [==============================] - 1s 21ms/step - loss: 0.4466 - accuracy: 0.8565 - val_loss: 0.2266 - val_accuracy: 0.9308\n",
      "Epoch 10/30\n",
      "54/54 [==============================] - 1s 21ms/step - loss: 0.3906 - accuracy: 0.8738 - val_loss: 0.2411 - val_accuracy: 0.9154\n",
      "Epoch 11/30\n",
      "54/54 [==============================] - 1s 21ms/step - loss: 0.3721 - accuracy: 0.8705 - val_loss: 0.2190 - val_accuracy: 0.9250\n",
      "Epoch 12/30\n",
      "54/54 [==============================] - 1s 21ms/step - loss: 0.3540 - accuracy: 0.8890 - val_loss: 0.2190 - val_accuracy: 0.9346\n",
      "Epoch 13/30\n",
      "54/54 [==============================] - 1s 21ms/step - loss: 0.3738 - accuracy: 0.8813 - val_loss: 0.1824 - val_accuracy: 0.9442\n",
      "Epoch 14/30\n",
      "54/54 [==============================] - 1s 21ms/step - loss: 0.3135 - accuracy: 0.9058 - val_loss: 0.1845 - val_accuracy: 0.9385\n",
      "Epoch 15/30\n",
      "54/54 [==============================] - 1s 22ms/step - loss: 0.2965 - accuracy: 0.9028 - val_loss: 0.2059 - val_accuracy: 0.9346\n",
      "Epoch 16/30\n",
      "54/54 [==============================] - 1s 21ms/step - loss: 0.2737 - accuracy: 0.9148 - val_loss: 0.1938 - val_accuracy: 0.9346\n",
      "\n",
      "Epoch 00016: ReduceLROnPlateau reducing learning rate to 0.0005000000237487257.\n",
      "Epoch 17/30\n",
      "54/54 [==============================] - 1s 21ms/step - loss: 0.2603 - accuracy: 0.9164 - val_loss: 0.1296 - val_accuracy: 0.9558\n",
      "Epoch 18/30\n",
      "54/54 [==============================] - 1s 21ms/step - loss: 0.2170 - accuracy: 0.9361 - val_loss: 0.1177 - val_accuracy: 0.9558\n",
      "Epoch 19/30\n",
      "54/54 [==============================] - 1s 21ms/step - loss: 0.2056 - accuracy: 0.9377 - val_loss: 0.1189 - val_accuracy: 0.9615\n",
      "Epoch 20/30\n",
      "54/54 [==============================] - 1s 21ms/step - loss: 0.2035 - accuracy: 0.9382 - val_loss: 0.1238 - val_accuracy: 0.9577\n",
      "Epoch 21/30\n",
      "54/54 [==============================] - 1s 21ms/step - loss: 0.1934 - accuracy: 0.9392 - val_loss: 0.1250 - val_accuracy: 0.9615\n",
      "Epoch 22/30\n",
      "54/54 [==============================] - 1s 21ms/step - loss: 0.1712 - accuracy: 0.9479 - val_loss: 0.1140 - val_accuracy: 0.9519\n",
      "\n",
      "Epoch 00022: ReduceLROnPlateau reducing learning rate to 0.0002500000118743628.\n",
      "Epoch 23/30\n",
      "54/54 [==============================] - 1s 21ms/step - loss: 0.1436 - accuracy: 0.9568 - val_loss: 0.1066 - val_accuracy: 0.9577\n",
      "Epoch 24/30\n",
      "54/54 [==============================] - 1s 21ms/step - loss: 0.1740 - accuracy: 0.9531 - val_loss: 0.1097 - val_accuracy: 0.9615\n",
      "Epoch 25/30\n",
      "54/54 [==============================] - 1s 21ms/step - loss: 0.1439 - accuracy: 0.9585 - val_loss: 0.0967 - val_accuracy: 0.9596\n",
      "\n",
      "Epoch 00025: ReduceLROnPlateau reducing learning rate to 0.0001250000059371814.\n",
      "Epoch 26/30\n",
      "54/54 [==============================] - 1s 21ms/step - loss: 0.1336 - accuracy: 0.9628 - val_loss: 0.1075 - val_accuracy: 0.9615\n",
      "Epoch 27/30\n",
      "54/54 [==============================] - 1s 21ms/step - loss: 0.1308 - accuracy: 0.9622 - val_loss: 0.1080 - val_accuracy: 0.9635\n",
      "Epoch 28/30\n",
      "54/54 [==============================] - 1s 21ms/step - loss: 0.1340 - accuracy: 0.9566 - val_loss: 0.1037 - val_accuracy: 0.9635\n",
      "Epoch 29/30\n",
      "54/54 [==============================] - 1s 21ms/step - loss: 0.1302 - accuracy: 0.9581 - val_loss: 0.0968 - val_accuracy: 0.9635\n",
      "Epoch 30/30\n",
      "54/54 [==============================] - 1s 21ms/step - loss: 0.1221 - accuracy: 0.9593 - val_loss: 0.0977 - val_accuracy: 0.9654\n"
     ]
    }
   ],
   "source": [
    "history = model.fit_generator(datagen.flow(X_train,Y_train, batch_size=batch_size),\n",
    "                              epochs =  30, validation_data = (X_val,Y_val),\n",
    "                              verbose = 1, steps_per_epoch=X_train.shape[0] // batch_size\n",
    "                              , callbacks=[learning_rate_reduction])"
   ]
  },
  {
   "cell_type": "markdown",
   "metadata": {},
   "source": [
    "# Analysing losses"
   ]
  },
  {
   "cell_type": "code",
   "execution_count": 57,
   "metadata": {},
   "outputs": [
    {
     "data": {
      "image/png": "[encoded data removed]",
      "text/plain": [
       "<Figure size 432x288 with 2 Axes>"
      ]
     },
     "metadata": {},
     "output_type": "display_data"
    }
   ],
   "source": [
    "fig, ax = plt.subplots(2,1)\n",
    "ax[0].plot(history.history['loss'], color='b', label=\"Training loss\")\n",
    "ax[0].plot(history.history['val_loss'], color='r', label=\"validation loss\",axes =ax[0])\n",
    "legend = ax[0].legend(loc='best', shadow=True)\n",
    "\n",
    "ax[1].plot(history.history['accuracy'], color='b', label=\"Training accuracy\")\n",
    "ax[1].plot(history.history['val_accuracy'], color='r',label=\"Validation accuracy\")\n",
    "legend = ax[1].legend(loc='best', shadow=True)"
   ]
  },
  {
   "cell_type": "markdown",
   "metadata": {},
   "source": [
    "# Analysing out top-6 wrongly identified characters"
   ]
  },
  {
   "cell_type": "code",
   "execution_count": 58,
   "metadata": {},
   "outputs": [
    {
     "name": "stdout",
     "output_type": "stream",
     "text": [
      "WARNING:tensorflow:Model was constructed with shape (None, 50, 30, 1) for input KerasTensor(type_spec=TensorSpec(shape=(None, 50, 30, 1), dtype=tf.float32, name='conv2d_input'), name='conv2d_input', description=\"created by layer 'conv2d_input'\"), but it was called on an input with incompatible shape (None, 54, 30, 1).\n",
      "Predicted label :7\n",
      "True label :17\n",
      "Predicted label :2\n",
      "True label :14\n",
      "Predicted label :7\n",
      "True label :15\n",
      "Predicted label :14\n",
      "True label :5\n",
      "Predicted label :4\n",
      "True label :8\n",
      "Predicted label :16\n",
      "True label :17\n"
     ]
    },
    {
     "data": {
      "image/png": "[encoded data removed]",
      "text/plain": [
       "<Figure size 432x288 with 6 Axes>"
      ]
     },
     "metadata": {},
     "output_type": "display_data"
    }
   ],
   "source": [
    "Y_pred = model.predict(X_val)\n",
    "# Convert predictions classes to one hot vectors \n",
    "Y_pred_classes = np.argmax(Y_pred,axis = 1) \n",
    "# Convert validation observations to one hot vectors\n",
    "Y_true = np.argmax(Y_val,axis = 1) \n",
    "errors = (Y_pred_classes - Y_true != 0)\n",
    "\n",
    "Y_pred_classes_errors = Y_pred_classes[errors]\n",
    "Y_pred_errors = Y_pred[errors]\n",
    "Y_true_errors = Y_true[errors]\n",
    "X_val_errors = X_val[errors]\n",
    "\n",
    "def display_errors(errors_index,img_errors,pred_errors, obs_errors):\n",
    "    \"\"\" This function shows 6 images with their predicted and real labels\"\"\"\n",
    "    n = 0\n",
    "    nrows = 2\n",
    "    ncols = 3\n",
    "    fig, ax = plt.subplots(nrows,ncols,sharex=True,sharey=True)\n",
    "    for row in range(nrows):\n",
    "        for col in range(ncols):\n",
    "            error = errors_index[n]\n",
    "            ax[row,col].imshow((img_errors[error]).reshape((54,30)))\n",
    "            ax[row,col].set_title(\"Predicted label :{}\\nTrue label :{}\".format(pred_errors[error],obs_errors[error]))\n",
    "            print(\"Predicted label :{}\\nTrue label :{}\".format(pred_errors[error],obs_errors[error]))\n",
    "            n += 1\n",
    "\n",
    "# Probabilities of the wrong predicted numbers\n",
    "Y_pred_errors_prob = np.max(Y_pred_errors,axis = 1)\n",
    "\n",
    "# Predicted probabilities of the true values in the error set\n",
    "true_prob_errors = np.diagonal(np.take(Y_pred_errors, Y_true_errors, axis=1))\n",
    "\n",
    "# Difference between the probability of the predicted label and the true label\n",
    "delta_pred_true_errors = Y_pred_errors_prob - true_prob_errors\n",
    "\n",
    "# Sorted list of the delta prob errors\n",
    "sorted_dela_errors = np.argsort(delta_pred_true_errors)\n",
    "\n",
    "# Top 6 errors \n",
    "most_important_errors = sorted_dela_errors[-6:]\n",
    "\n",
    "# Show the top 6 errors\n",
    "display_errors(most_important_errors, X_val_errors, Y_pred_classes_errors, Y_true_errors)"
   ]
  },
  {
   "cell_type": "markdown",
   "metadata": {},
   "source": [
    "# Analysis on Cpatcha images\n",
    "TilL now we have evaluated and traiNed our model on charActer dataset, what we are going to do here is test the accuracy of our model on captcha images.\n",
    "A captcha image is said to be correctly predicted if all the characters in that image are correcty identified. "
   ]
  },
  {
   "cell_type": "code",
   "execution_count": 59,
   "metadata": {},
   "outputs": [],
   "source": [
    "def captcha(img,p):\n",
    "    im=cv2.imread(str(img),0)\n",
    "    threshold=cv2.adaptiveThreshold(im, 255, cv2.ADAPTIVE_THRESH_GAUSSIAN_C,cv2.THRESH_BINARY, 199, 5)\n",
    "    erosion =cv2.dilate(threshold,kernel,iterations=2)\n",
    "    images=[]\n",
    "    for i in range(5):\n",
    "        images.append(pad(erosion[:,(30+23*i):(30+23*(i+1))]))\n",
    "    images=np.reshape(images,(-1,54,30,1))\n",
    "    pred=model.predict(images)\n",
    "    pred=np.argmax(pred,axis = 1)\n",
    "    predicted=str(l[pred[0]]+l[pred[1]]+l[pred[2]]+l[pred[3]]+l[pred[4]])\n",
    "    if(p):\n",
    "        print(predicted)\n",
    "    if(predicted==img[-9:-4]):\n",
    "        return 1\n",
    "    return 0"
   ]
  },
  {
   "cell_type": "code",
   "execution_count": 60,
   "metadata": {},
   "outputs": [
    {
     "name": "stdout",
     "output_type": "stream",
     "text": [
      "WARNING:tensorflow:Model was constructed with shape (None, 50, 30, 1) for input KerasTensor(type_spec=TensorSpec(shape=(None, 50, 30, 1), dtype=tf.float32, name='conv2d_input'), name='conv2d_input', description=\"created by layer 'conv2d_input'\"), but it was called on an input with incompatible shape (None, 54, 30, 1).\n"
     ]
    }
   ],
   "source": [
    "images = list(data_dir.glob(\"*.png\"))\n",
    "t=0\n",
    "for i in images:\n",
    "    t+=captcha(str(i),False)"
   ]
  },
  {
   "cell_type": "markdown",
   "metadata": {},
   "source": [
    "# Acuuracy"
   ]
  },
  {
   "cell_type": "code",
   "execution_count": 61,
   "metadata": {},
   "outputs": [
    {
     "name": "stdout",
     "output_type": "stream",
     "text": [
      "total images 1040 correctly identified 929\n",
      "Accuracy is 0.8932692307692308\n"
     ]
    }
   ],
   "source": [
    "print(\"total images\",len(images),\"correctly identified\",t)\n",
    "print(\"Accuracy is\",t/len(images))"
   ]
  },
  {
   "cell_type": "markdown",
   "metadata": {},
   "source": [
    "# Let's Test a single captcha code"
   ]
  },
  {
   "cell_type": "code",
   "execution_count": 63,
   "metadata": {},
   "outputs": [
    {
     "name": "stdout",
     "output_type": "stream",
     "text": [
      "y48c3\n"
     ]
    },
    {
     "data": {
      "text/plain": [
       "1"
      ]
     },
     "execution_count": 63,
     "metadata": {},
     "output_type": "execute_result"
    }
   ],
   "source": [
    "img='./samples/y48c3.png'\n",
    "captcha(img,True)"
   ]
  }
 ],
 "metadata": {
  "kernelspec": {
   "display_name": "Python 3",
   "language": "python",
   "name": "python3"
  },
  "language_info": {
   "codemirror_mode": {
    "name": "ipython",
    "version": 3
   },
   "file_extension": ".py",
   "mimetype": "text/x-python",
   "name": "python",
   "nbconvert_exporter": "python",
   "pygments_lexer": "ipython3",
   "version": "3.8.5"
  }
 },
 "nbformat": 4,
 "nbformat_minor": 4
}
